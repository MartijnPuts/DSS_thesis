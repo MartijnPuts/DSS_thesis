{
  "metadata": {
    "colab": {
      "provenance": [],
      "gpuType": "T4",
      "include_colab_link": true
    },
    "kernelspec": {
      "name": "python3",
      "display_name": "Python 3",
      "language": "python"
    },
    "language_info": {
      "name": "python",
      "version": "3.10.13",
      "mimetype": "text/x-python",
      "codemirror_mode": {
        "name": "ipython",
        "version": 3
      },
      "pygments_lexer": "ipython3",
      "nbconvert_exporter": "python",
      "file_extension": ".py"
    },
    "accelerator": "GPU",
    "kaggle": {
      "accelerator": "gpu",
      "dataSources": [
        {
          "sourceId": 8234602,
          "sourceType": "datasetVersion",
          "datasetId": 4883911
        },
        {
          "sourceId": 8280312,
          "sourceType": "datasetVersion",
          "datasetId": 4917408
        }
      ],
      "dockerImageVersionId": 30698,
      "isInternetEnabled": true,
      "language": "python",
      "sourceType": "notebook",
      "isGpuEnabled": true
    }
  },
  "nbformat_minor": 0,
  "nbformat": 4,
  "cells": [
    {
      "cell_type": "markdown",
      "metadata": {
        "id": "view-in-github",
        "colab_type": "text"
      },
      "source": [
        "<a href=\"https://colab.research.google.com/github/MartijnPuts/DSS_thesis/blob/main/RobBERT_models.ipynb\" target=\"_parent\"><img src=\"https://colab.research.google.com/assets/colab-badge.svg\" alt=\"Open In Colab\"/></a>"
      ]
    },
    {
      "cell_type": "code",
      "source": [
        "! pip install -U accelerate\n",
        "! pip install -U transformers\n",
        "!pip3 install datasets"
      ],
      "metadata": {
        "id": "ijTiAHh_vd4k",
        "execution": {
          "iopub.status.busy": "2024-05-01T13:03:49.94718Z",
          "iopub.execute_input": "2024-05-01T13:03:49.948044Z",
          "iopub.status.idle": "2024-05-01T13:04:39.677044Z",
          "shell.execute_reply.started": "2024-05-01T13:03:49.948007Z",
          "shell.execute_reply": "2024-05-01T13:04:39.675949Z"
        },
        "trusted": true
      },
      "execution_count": null,
      "outputs": []
    },
    {
      "cell_type": "code",
      "source": [
        "import numpy as np\n",
        "import pandas as pd\n",
        "import os\n",
        "\n",
        "import matplotlib.pyplot as plt\n",
        "\n",
        "from transformers import Trainer, TrainingArguments, AutoModelForSequenceClassification, AutoTokenizer\n",
        "from datasets import load_from_disk\n",
        "\n",
        "from sklearn.metrics import accuracy_score, recall_score, precision_score, f1_score, matthews_corrcoef"
      ],
      "metadata": {
        "id": "HdvWIQDjvq25",
        "execution": {
          "iopub.status.busy": "2024-05-01T13:08:24.795649Z",
          "iopub.execute_input": "2024-05-01T13:08:24.796023Z",
          "iopub.status.idle": "2024-05-01T13:08:42.737087Z",
          "shell.execute_reply.started": "2024-05-01T13:08:24.795992Z",
          "shell.execute_reply": "2024-05-01T13:08:42.736001Z"
        },
        "trusted": true
      },
      "execution_count": null,
      "outputs": []
    },
    {
      "cell_type": "code",
      "source": [
        "os.getcwd()"
      ],
      "metadata": {
        "id": "e9ka60XkYba7",
        "execution": {
          "iopub.status.busy": "2024-04-26T13:08:39.092436Z",
          "iopub.execute_input": "2024-04-26T13:08:39.092978Z",
          "iopub.status.idle": "2024-04-26T13:08:39.099273Z",
          "shell.execute_reply.started": "2024-04-26T13:08:39.092951Z",
          "shell.execute_reply": "2024-04-26T13:08:39.098402Z"
        },
        "trusted": true
      },
      "execution_count": null,
      "outputs": []
    },
    {
      "cell_type": "markdown",
      "source": [
        "## Load data"
      ],
      "metadata": {
        "id": "OJClJfO0vTuM"
      }
    },
    {
      "cell_type": "code",
      "source": [
        "data = load_from_disk(\"/kaggle/input/hr-head-truncated-tokenised/HR_tokenized_dataset_head_truncation_shuffled.hf\")\n"
      ],
      "metadata": {
        "id": "n89tRrK3t20c",
        "execution": {
          "iopub.status.busy": "2024-05-01T13:08:48.847482Z",
          "iopub.execute_input": "2024-05-01T13:08:48.848368Z",
          "iopub.status.idle": "2024-05-01T13:08:49.019587Z",
          "shell.execute_reply.started": "2024-05-01T13:08:48.848324Z",
          "shell.execute_reply": "2024-05-01T13:08:49.018526Z"
        },
        "trusted": true
      },
      "execution_count": null,
      "outputs": []
    },
    {
      "cell_type": "code",
      "source": [
        "data"
      ],
      "metadata": {
        "id": "h9JfuGmuuEHa",
        "execution": {
          "iopub.status.busy": "2024-05-01T13:08:51.139578Z",
          "iopub.execute_input": "2024-05-01T13:08:51.139933Z",
          "iopub.status.idle": "2024-05-01T13:08:51.147211Z",
          "shell.execute_reply.started": "2024-05-01T13:08:51.139905Z",
          "shell.execute_reply": "2024-05-01T13:08:51.145958Z"
        },
        "trusted": true
      },
      "execution_count": null,
      "outputs": []
    },
    {
      "cell_type": "code",
      "source": [
        "data['train']['label'][:10]"
      ],
      "metadata": {
        "id": "CkUYEbjh0eY6",
        "execution": {
          "iopub.status.busy": "2024-05-01T13:08:55.857157Z",
          "iopub.execute_input": "2024-05-01T13:08:55.857963Z",
          "iopub.status.idle": "2024-05-01T13:08:55.94738Z",
          "shell.execute_reply.started": "2024-05-01T13:08:55.857926Z",
          "shell.execute_reply": "2024-05-01T13:08:55.946508Z"
        },
        "trusted": true
      },
      "execution_count": null,
      "outputs": []
    },
    {
      "cell_type": "markdown",
      "source": [
        "##Model\n"
      ],
      "metadata": {
        "id": "KrAle8TjS26g"
      }
    },
    {
      "cell_type": "code",
      "source": [
        "# Define checkpoint\n",
        "checkpoint = \"DTAI-KULeuven/robbert-2023-dutch-base\"\n",
        "#checkpoint = \"mputs1234/RobBERT-legal\"\n",
        "\n",
        "#Initialize model and tokenizer\n",
        "tokenizer = AutoTokenizer.from_pretrained(\"DTAI-KULeuven/robbert-2023-dutch-base\")\n",
        "model = AutoModelForSequenceClassification.from_pretrained(checkpoint, num_labels=2) #,hidden_dropout_prob=0.15, attention_probs_dropout_prob=0.15, classifier_dropout=0)"
      ],
      "metadata": {
        "id": "vUaebM_ZS8st",
        "trusted": true
      },
      "execution_count": null,
      "outputs": []
    },
    {
      "cell_type": "code",
      "source": [
        "#Define training arguments\n",
        "training_args = TrainingArguments(\n",
        "                                  output_dir = '/kaggle/working/',\n",
        "\n",
        "                                  evaluation_strategy=\"epoch\",\n",
        "                                    logging_strategy=\"epoch\",\n",
        "                                  save_strategy=\"epoch\",\n",
        "\n",
        "                                  #logging_steps=300,\n",
        "                                  #eval_steps=300,\n",
        "                                  #save_steps=600,\n",
        "\n",
        "                                  per_device_train_batch_size=16,\n",
        "                                  per_device_eval_batch_size=16,\n",
        "                                  #gradient_accumulation_steps=8,\n",
        "                                  #gradient_checkpointing=True,\n",
        "\n",
        "                                  num_train_epochs=5,\n",
        "\n",
        "                                  learning_rate=1e-5,\n",
        "                                  lr_scheduler_type=\"linear\",\n",
        "                                  warmup_ratio=0.1,\n",
        "                                    weight_decay=0.1,\n",
        "\n",
        "                                  optim=\"adamw_torch\",\n",
        "\n",
        "                                  save_total_limit=2,\n",
        "                                  load_best_model_at_end=True,\n",
        "                                    fp16=True,\n",
        "                                    report_to='none'\n",
        "                                  )"
      ],
      "metadata": {
        "id": "TDipM9wbwwXt",
        "trusted": true
      },
      "execution_count": null,
      "outputs": []
    },
    {
      "cell_type": "code",
      "source": [
        "# Define metrics function with sklearn\n",
        "def compute_metrics(p):\n",
        "    pred, labels = p\n",
        "    pred = np.argmax(pred, axis=1)\n",
        "\n",
        "    accuracy = accuracy_score(y_true=labels, y_pred=pred)\n",
        "    recall = recall_score(y_true=labels, y_pred=pred)\n",
        "    precision = precision_score(y_true=labels, y_pred=pred)\n",
        "    f1 = f1_score(y_true=labels, y_pred=pred)\n",
        "    mcc = matthews_corrcoef(y_true=labels, y_pred=pred)\n",
        "\n",
        "    return {\"accuracy\": accuracy, \"precision\": precision, \"recall\": recall, \"f1\": f1, \"mcc\": mcc}"
      ],
      "metadata": {
        "id": "ZoD7l0dwr2A1",
        "trusted": true
      },
      "execution_count": null,
      "outputs": []
    },
    {
      "cell_type": "code",
      "source": [
        "# Define Trainer\n",
        "trainer = Trainer(\n",
        "    model,\n",
        "    training_args,\n",
        "    train_dataset=data[\"train\"],\n",
        "    eval_dataset=data[\"val\"],\n",
        "    tokenizer=tokenizer,\n",
        "    compute_metrics=compute_metrics,\n",
        ")"
      ],
      "metadata": {
        "id": "lMMezA6PTb6N",
        "trusted": true
      },
      "execution_count": null,
      "outputs": []
    },
    {
      "cell_type": "code",
      "source": [
        "# Test that the eval metric is being calculated.\n",
        "\n",
        "eval_results_dict = trainer.evaluate()\n",
        "print('\\n Check that eval is working:')\n",
        "print(eval_results_dict)\n",
        "print('\\n')"
      ],
      "metadata": {
        "id": "HAIHC5w2oniU",
        "trusted": true
      },
      "execution_count": null,
      "outputs": []
    },
    {
      "cell_type": "code",
      "source": [
        "print('start training')"
      ],
      "metadata": {
        "id": "xB4Hjqaa5x5t"
      },
      "execution_count": null,
      "outputs": []
    },
    {
      "cell_type": "code",
      "source": [
        "# Train\n",
        "trainer.train()"
      ],
      "metadata": {
        "id": "xdl2J5jg10CX",
        "execution": {
          "iopub.status.busy": "2024-04-26T13:12:25.396564Z",
          "iopub.execute_input": "2024-04-26T13:12:25.397328Z",
          "iopub.status.idle": "2024-04-26T14:04:50.830271Z",
          "shell.execute_reply.started": "2024-04-26T13:12:25.397295Z",
          "shell.execute_reply": "2024-04-26T14:04:50.829463Z"
        },
        "trusted": true
      },
      "execution_count": null,
      "outputs": []
    },
    {
      "cell_type": "code",
      "source": [
        "#get metric history\n",
        "history = pd.DataFrame(trainer.state.log_history)"
      ],
      "metadata": {
        "id": "MFha38GzqShd",
        "execution": {
          "iopub.status.busy": "2024-04-26T14:14:59.545218Z",
          "iopub.execute_input": "2024-04-26T14:14:59.545937Z",
          "iopub.status.idle": "2024-04-26T14:14:59.554052Z",
          "shell.execute_reply.started": "2024-04-26T14:14:59.545901Z",
          "shell.execute_reply": "2024-04-26T14:14:59.553055Z"
        },
        "trusted": true
      },
      "execution_count": null,
      "outputs": []
    },
    {
      "cell_type": "code",
      "source": [
        "history"
      ],
      "metadata": {
        "id": "90IVwk4zWCoD",
        "execution": {
          "iopub.status.busy": "2024-04-26T14:15:01.978307Z",
          "iopub.execute_input": "2024-04-26T14:15:01.978998Z",
          "iopub.status.idle": "2024-04-26T14:15:02.017318Z",
          "shell.execute_reply.started": "2024-04-26T14:15:01.978956Z",
          "shell.execute_reply": "2024-04-26T14:15:02.016527Z"
        },
        "trusted": true
      },
      "execution_count": null,
      "outputs": []
    },
    {
      "cell_type": "code",
      "source": [
        "#clean history\n",
        "history.fillna(method='ffill', inplace=True)"
      ],
      "metadata": {
        "execution": {
          "iopub.status.busy": "2024-04-26T14:15:05.320977Z",
          "iopub.execute_input": "2024-04-26T14:15:05.321607Z",
          "iopub.status.idle": "2024-04-26T14:15:05.330302Z",
          "shell.execute_reply.started": "2024-04-26T14:15:05.321573Z",
          "shell.execute_reply": "2024-04-26T14:15:05.329488Z"
        },
        "trusted": true,
        "id": "Lhb7ouGl5x5u"
      },
      "execution_count": null,
      "outputs": []
    },
    {
      "cell_type": "code",
      "source": [
        "history.drop_duplicates(subset=['step'], keep='last', inplace=True)"
      ],
      "metadata": {
        "execution": {
          "iopub.status.busy": "2024-04-26T14:15:08.256814Z",
          "iopub.execute_input": "2024-04-26T14:15:08.257164Z",
          "iopub.status.idle": "2024-04-26T14:15:08.267661Z",
          "shell.execute_reply.started": "2024-04-26T14:15:08.257137Z",
          "shell.execute_reply": "2024-04-26T14:15:08.266657Z"
        },
        "trusted": true,
        "id": "cZX1elsf5x5u"
      },
      "execution_count": null,
      "outputs": []
    },
    {
      "cell_type": "code",
      "source": [
        "history"
      ],
      "metadata": {
        "execution": {
          "iopub.status.busy": "2024-04-26T14:15:11.484021Z",
          "iopub.execute_input": "2024-04-26T14:15:11.484636Z",
          "iopub.status.idle": "2024-04-26T14:15:11.507471Z",
          "shell.execute_reply.started": "2024-04-26T14:15:11.484601Z",
          "shell.execute_reply": "2024-04-26T14:15:11.506648Z"
        },
        "trusted": true,
        "id": "UTFcFlSw5x5u"
      },
      "execution_count": null,
      "outputs": []
    },
    {
      "cell_type": "code",
      "source": [
        "def loss_graph(history):\n",
        "    plt.figure(figsize=(8, 6))\n",
        "\n",
        "    # Plot loss\n",
        "    plt.subplot(2, 1, 1)\n",
        "    plt.plot(history['step'], history['loss'], color='red', linestyle='-', label='Training Loss')\n",
        "    plt.plot(history['step'], history['eval_loss'], color='green', linestyle='--', label='Validation Loss')\n",
        "    plt.title('Training and Validation Loss')\n",
        "    plt.xlabel('Step')\n",
        "    plt.ylabel('Loss')\n",
        "    min_val_loss = min(history['eval_loss'])\n",
        "    #min_val_loss_epoch = history['eval_loss'].index(min_val_loss)\n",
        "    #plt.scatter(min_val_loss_epoch, min_val_loss, color='blue', label='Best Epoch')\n",
        "    plt.legend()\n",
        "\n",
        "    # Add legend\n",
        "    plt.legend()\n",
        "\n",
        "    plt.tight_layout()\n",
        "    #plt.savefig(file_dir_graphs + save_name + '.png', bbox_inches='tight')\n",
        "    plt.show()"
      ],
      "metadata": {
        "execution": {
          "iopub.status.busy": "2024-04-26T14:15:15.272471Z",
          "iopub.execute_input": "2024-04-26T14:15:15.273472Z",
          "iopub.status.idle": "2024-04-26T14:15:15.280496Z",
          "shell.execute_reply.started": "2024-04-26T14:15:15.273437Z",
          "shell.execute_reply": "2024-04-26T14:15:15.279544Z"
        },
        "trusted": true,
        "id": "xFJC-6DU5x5u"
      },
      "execution_count": null,
      "outputs": []
    },
    {
      "cell_type": "code",
      "source": [
        "#plot loss graph\n",
        "\n",
        "loss_graph(history)"
      ],
      "metadata": {
        "execution": {
          "iopub.status.busy": "2024-04-26T14:15:16.993869Z",
          "iopub.execute_input": "2024-04-26T14:15:16.994566Z",
          "iopub.status.idle": "2024-04-26T14:15:17.379804Z",
          "shell.execute_reply.started": "2024-04-26T14:15:16.994528Z",
          "shell.execute_reply": "2024-04-26T14:15:17.378883Z"
        },
        "trusted": true,
        "id": "8x8TkFf55x5u"
      },
      "execution_count": null,
      "outputs": []
    },
    {
      "cell_type": "code",
      "source": [
        "# Predict on evaluation set\n",
        "eval_pred = trainer.predict(data['val'])"
      ],
      "metadata": {
        "id": "dRA6uL5Yqo2E",
        "execution": {
          "iopub.status.busy": "2024-04-26T14:17:14.526199Z",
          "iopub.execute_input": "2024-04-26T14:17:14.526632Z",
          "iopub.status.idle": "2024-04-26T14:18:36.607064Z",
          "shell.execute_reply.started": "2024-04-26T14:17:14.526598Z",
          "shell.execute_reply": "2024-04-26T14:18:36.606141Z"
        },
        "trusted": true
      },
      "execution_count": null,
      "outputs": []
    },
    {
      "cell_type": "code",
      "source": [
        "print(eval_pred.predictions.shape, eval_pred.label_ids.shape)\n"
      ],
      "metadata": {
        "id": "qZn05luhweVW",
        "execution": {
          "iopub.status.busy": "2024-04-26T14:19:16.178542Z",
          "iopub.execute_input": "2024-04-26T14:19:16.179453Z",
          "iopub.status.idle": "2024-04-26T14:19:16.184471Z",
          "shell.execute_reply.started": "2024-04-26T14:19:16.179398Z",
          "shell.execute_reply": "2024-04-26T14:19:16.183485Z"
        },
        "trusted": true
      },
      "execution_count": null,
      "outputs": []
    },
    {
      "cell_type": "code",
      "source": [
        "preds = np.argmax(eval_pred.predictions, axis=-1)"
      ],
      "metadata": {
        "id": "3l7TxSU0xdon",
        "execution": {
          "iopub.status.busy": "2024-04-26T14:19:18.405113Z",
          "iopub.execute_input": "2024-04-26T14:19:18.405814Z",
          "iopub.status.idle": "2024-04-26T14:19:18.410037Z",
          "shell.execute_reply.started": "2024-04-26T14:19:18.40578Z",
          "shell.execute_reply": "2024-04-26T14:19:18.409126Z"
        },
        "trusted": true
      },
      "execution_count": null,
      "outputs": []
    },
    {
      "cell_type": "code",
      "source": [
        "preds"
      ],
      "metadata": {
        "id": "PVXr_oH7s1Wd",
        "execution": {
          "iopub.status.busy": "2024-04-26T14:19:20.283344Z",
          "iopub.execute_input": "2024-04-26T14:19:20.284026Z",
          "iopub.status.idle": "2024-04-26T14:19:20.289903Z",
          "shell.execute_reply.started": "2024-04-26T14:19:20.283992Z",
          "shell.execute_reply": "2024-04-26T14:19:20.288928Z"
        },
        "trusted": true
      },
      "execution_count": null,
      "outputs": []
    },
    {
      "cell_type": "code",
      "source": [
        "#Confusion matrix\n",
        "from sklearn.metrics import confusion_matrix\n",
        "import seaborn as sns\n",
        "\n",
        "def plot_confusion_matrix(y_true, y_pred, classes=[0,1]):\n",
        "    # Create confusion matrix\n",
        "    cm = confusion_matrix(y_true, y_pred)\n",
        "\n",
        "    # Create seaborn heatmap\n",
        "    plt.figure(figsize=(8, 6))\n",
        "    sns.set(font_scale=1.2)  # Adjust font size\n",
        "    sns.heatmap(cm, annot=True, fmt='g', cmap='Blues', cbar=False,\n",
        "                xticklabels=classes, yticklabels=classes)\n",
        "\n",
        "    plt.xlabel('Predicted')\n",
        "    plt.ylabel('True')\n",
        "    plt.title('Confusion Matrix')\n",
        "    plt.show()\n",
        "\n",
        "\n"
      ],
      "metadata": {
        "execution": {
          "iopub.status.busy": "2024-04-26T14:19:23.69082Z",
          "iopub.execute_input": "2024-04-26T14:19:23.691759Z",
          "iopub.status.idle": "2024-04-26T14:19:23.7862Z",
          "shell.execute_reply.started": "2024-04-26T14:19:23.691724Z",
          "shell.execute_reply": "2024-04-26T14:19:23.785466Z"
        },
        "trusted": true,
        "id": "wr8j23AY5x5v"
      },
      "execution_count": null,
      "outputs": []
    },
    {
      "cell_type": "code",
      "source": [
        "plot_confusion_matrix(data['val']['label'], preds)"
      ],
      "metadata": {
        "execution": {
          "iopub.status.busy": "2024-04-26T14:19:26.746154Z",
          "iopub.execute_input": "2024-04-26T14:19:26.74655Z",
          "iopub.status.idle": "2024-04-26T14:19:26.901272Z",
          "shell.execute_reply.started": "2024-04-26T14:19:26.746516Z",
          "shell.execute_reply": "2024-04-26T14:19:26.900376Z"
        },
        "trusted": true,
        "id": "_KyPq8qr5x5v"
      },
      "execution_count": null,
      "outputs": []
    }
  ]
}